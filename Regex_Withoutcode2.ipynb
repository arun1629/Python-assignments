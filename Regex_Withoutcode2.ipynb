{
  "cells": [
    {
      "cell_type": "markdown",
      "metadata": {
        "id": "FSjo1RkHwHtF"
      },
      "source": [
        "## <center><u>Regular Expression</u></center>\n",
        "\n",
        "\n",
        "Regular Expression – better known as Regex – is pattern matching. As regular expressions are regular, it means they are used to match well-defined patterns. Regular expression or pattern matching tools identify words and phrases with common patterns.  A typical use case for Regex is find and replace, however as it is not able to understand syntax, grammar, or context, Regex solutions tend to operate on a very small well-defined problem set. Basically, Regex solutions are using pattern matching to merely identify similarities and differences in patterns of words and phrases. They are not able to identify words and phrases taking into consideration syntax, grammar and ultimately context.\n",
        "\n",
        "\n",
        "You will be facing some challenging questions on Regex in this assignment. Below **`following steps`** would help you to complete this assignment:\n",
        "\n",
        "- **`1. Read the question`**\n",
        "- **`2. Go to the link given under the question`**\n",
        "- **`3. You will land on Hakerrank page, if not then create your Hakerrank account.`**\n",
        "- **`4. Once you land on hankerank page mentioned under question, go through the given problem carefully.`**\n",
        "- **`5. Solve it in the editor given in the page. Select python3 as your language in the editor and click 'Run Code' Button`**\n",
        "- **`6. Once you have passed all the sample test cases, write your solution in this assignment against each question, save the file and then submit on portal.`**\n",
        "\n",
        "\n",
        "If you need any assistence on Regex, then please refer below links:\n",
        "\n",
        "## **`Watch Video 18: Regex Tutorial`**\n",
        "\n",
        "Regex doc: https://docs.python.org/3/howto/regex.html\n",
        "\n",
        "\n"
      ]
    },
    {
      "cell_type": "markdown",
      "metadata": {
        "id": "0kkaVALuwHtK"
      },
      "source": [
        "#### Q1. Matching string problem\n",
        "\n",
        "https://www.hackerrank.com/challenges/matching-specific-string/problem"
      ]
    },
    {
      "cell_type": "code",
      "source": [
        "print(r'\\t hello')"
      ],
      "metadata": {
        "id": "jL2M3dqPwbv3",
        "colab": {
          "base_uri": "https://localhost:8080/"
        },
        "outputId": "06df0198-3465-44ef-9179-f9beef990da7"
      },
      "execution_count": null,
      "outputs": [
        {
          "output_type": "stream",
          "name": "stdout",
          "text": [
            "\\t hello\n"
          ]
        }
      ]
    },
    {
      "cell_type": "markdown",
      "metadata": {
        "id": "96u-5hSQwHtM"
      },
      "source": [
        "#### Q2 Matching anything\n",
        "\n",
        "link - https://www.hackerrank.com/challenges/matching-anything-but-new-line/problem\n"
      ]
    },
    {
      "cell_type": "code",
      "source": [
        "regex_pattern = r\"^...\\....\\....\\....$\"\n"
      ],
      "metadata": {
        "id": "vLhIrsWgwd-w"
      },
      "execution_count": null,
      "outputs": []
    },
    {
      "cell_type": "markdown",
      "metadata": {
        "id": "2r69G5X6wHtN"
      },
      "source": [
        "#### Q3 Matching non digit character\n",
        "\n",
        "link - https://www.hackerrank.com/challenges/matching-digits-non-digit-character/problem"
      ]
    },
    {
      "cell_type": "code",
      "source": [
        "regex_pattern = r\"\\d{2}\\D\\d{2}\\D\\d{4}\""
      ],
      "metadata": {
        "id": "ewXFBXv-whb0"
      },
      "execution_count": null,
      "outputs": []
    },
    {
      "cell_type": "markdown",
      "metadata": {
        "id": "nAwYC2WWwHtO"
      },
      "source": [
        "#### Q4 matching whitespace - non whitespace\n",
        "\n",
        "\n",
        "link - https://www.hackerrank.com/challenges/matching-whitespace-non-whitespace-character/problem?h_r=next-challenge&h_v=zen\n"
      ]
    },
    {
      "cell_type": "code",
      "source": [
        "regex_pattern = r\"\\S{2}\\s\\S{2}\\s\\S{2}\""
      ],
      "metadata": {
        "id": "u-b0idauwk4k"
      },
      "execution_count": null,
      "outputs": []
    },
    {
      "cell_type": "markdown",
      "metadata": {
        "id": "BmfTWoPhwHtP"
      },
      "source": [
        "#### Q5 matching start end problem\n",
        "\n",
        "\n",
        "\n",
        "link - https://www.hackerrank.com/challenges/matching-start-end/problem?h_r=next-challenge&h_v=zen&h_r=next-challenge&h_v=zen&h_r=next-challenge&h_v=zen"
      ]
    },
    {
      "cell_type": "code",
      "source": [
        "regex_pattern = r\"^\\d\\w{4}\\.$\"\n"
      ],
      "metadata": {
        "id": "2YrxQ2htwYYR"
      },
      "execution_count": null,
      "outputs": []
    },
    {
      "cell_type": "markdown",
      "metadata": {
        "id": "y0zG45zvwHtQ"
      },
      "source": [
        "#### Q6 negative lookbehind\n",
        "\n",
        "link - https://www.hackerrank.com/challenges/negative-lookbehind/problem"
      ]
    },
    {
      "cell_type": "code",
      "source": [
        "Regex_Pattern = r\"(?<![aeiouAEIOU]).\""
      ],
      "metadata": {
        "id": "Nc8Eh8yHwVO9"
      },
      "execution_count": null,
      "outputs": []
    },
    {
      "cell_type": "markdown",
      "metadata": {
        "id": "GvFxBjskwHtR"
      },
      "source": [
        "#### Q7 Html attribute problem\n",
        "\n",
        "link - https://www.hackerrank.com/challenges/html-attributes/problem"
      ]
    },
    {
      "cell_type": "code",
      "source": [
        "import re\n",
        "from collections import defaultdict\n",
        "\n",
        "tag_regex = re.compile(r\"<(\\w+).*?>\")\n",
        "attrs_regex = re.compile(r\"\\s(\\w+)=\")\n",
        "output = defaultdict(set)\n",
        "  \n",
        "for _ in range (int(input())):\n",
        "  for i in  tag_regex.finditer(input()):\n",
        "    attrs = attrs_regex.findall(i.group(0))\n",
        "    output[i.group(1)].update(attrs)\n",
        "       \n",
        "for k,v in sorted(output.items()):\n",
        "    print(f\"{k}:{','.join(sorted(v))}\")\n"
      ],
      "metadata": {
        "id": "U-YXLhpGwSXR",
        "colab": {
          "base_uri": "https://localhost:8080/"
        },
        "outputId": "ef9e484f-ca0b-46c2-cc84-d7195f0db09b"
      },
      "execution_count": null,
      "outputs": [
        {
          "output_type": "stream",
          "name": "stdout",
          "text": [
            "2\n",
            "<p><a href=\"http://www.quackit.com/html/tutorial/html_links.cfm\">Example Link</a></p>\n",
            "<div class=\"more-info\"><a href=\"http://www.quackit.com/html/examples/html_links_examples.cfm\">More Link Examples...</a></div>\n",
            "a:href\n",
            "div:class\n",
            "p:\n"
          ]
        }
      ]
    },
    {
      "cell_type": "markdown",
      "source": [
        "2\n",
        "<li style=\"-moz-float-edge: content-box\">... that <a href=\"/wiki/Orval_Overall\" title=\"Orval Overall\">Orval Overall</a> <i>(pictured)</i> is the only <b><a href=\"/wiki/List_of_Major_League_Baseball_pitchers_who_have_struck_out_four_batters_in_one_inning\" title=\"List of Major League Baseball pitchers who have struck out four batters in one inning\">Major League Baseball player to strike out four batters in one inning</a></b> in the <a href=\"/wiki/World_Series\" title=\"World Series\">World Series</a>?</li>\n",
        "<li style=\"-moz-float-edge: content-box\">... that the three cities of the <b><a href=\"/wiki/West_Triangle_Economic_Zone\" title=\"West Triangle Economic Zone\">West Triangle Economic Zone</a></b> contribute 40% of Western China's GDP?</li>\n",
        "a:href,title\n",
        "b:\n",
        "i:\n",
        "li:style"
      ],
      "metadata": {
        "id": "RhKccB2ASqAC"
      }
    },
    {
      "cell_type": "code",
      "source": [],
      "metadata": {
        "id": "4J62pBilSnya"
      },
      "execution_count": null,
      "outputs": []
    },
    {
      "cell_type": "markdown",
      "metadata": {
        "id": "AnyIRWVNwHtR"
      },
      "source": [
        "#### Q8 detect html tags\n",
        "\n",
        "link - https://www.hackerrank.com/challenges/detect-html-tags/problem\n"
      ]
    },
    {
      "cell_type": "code",
      "source": [
        "import re\n",
        "l = []\n",
        "for _ in range(int(input())):\n",
        "    pattern = r'<(\\w+)'\n",
        "    match = re.findall(pattern,input())\n",
        "    for i in match:\n",
        "        l.append(i)\n",
        "\n",
        "a = sorted(set(l))\n",
        "print(';'.join(a))"
      ],
      "metadata": {
        "id": "TVM2MPcZwowT",
        "colab": {
          "base_uri": "https://localhost:8080/"
        },
        "outputId": "d47719a6-7ded-457b-bfae-069c73025fb0"
      },
      "execution_count": null,
      "outputs": [
        {
          "output_type": "stream",
          "name": "stdout",
          "text": [
            "1\n",
            "<p\n",
            "p\n"
          ]
        }
      ]
    },
    {
      "cell_type": "markdown",
      "metadata": {
        "id": "u7G_61dNwHtS"
      },
      "source": [
        "#### Q9 final substring problem\n",
        "\n",
        "link - https://www.hackerrank.com/challenges/find-substring/problem\n"
      ]
    },
    {
      "cell_type": "code",
      "source": [
        "\n",
        "l = []\n",
        "ch = []\n",
        "import re\n",
        "for i in range(int(input())):\n",
        "    l.append(input())\n",
        "for i in range(int(input())):\n",
        "    ch.append(input())\n",
        "for word in ch:\n",
        "    pattern = re.compile(r'\\w+'+word+'\\w+')\n",
        "    count = 0\n",
        "    for i in l:\n",
        "        for j in pattern.findall(i):\n",
        "            count += 1\n",
        "    print(count)"
      ],
      "metadata": {
        "id": "H7HfMdAmwrV0"
      },
      "execution_count": null,
      "outputs": []
    },
    {
      "cell_type": "markdown",
      "metadata": {
        "id": "o2t6Cf8wwHtT"
      },
      "source": [
        "#### Q 10 Alien username\n",
        "\n",
        "link - https://www.hackerrank.com/challenges/alien-username/problem"
      ]
    },
    {
      "cell_type": "code",
      "source": [
        "import re\n",
        "pattern = r'^[_\\.][\\d]+[a-zA-Z]*[_]?$'\n",
        "for _ in range(int(input())):\n",
        "    m = re.search(pattern,input())\n",
        "    if m :\n",
        "        print('VALID')\n",
        "    else:\n",
        "        print('INVALID')\n",
        "        "
      ],
      "metadata": {
        "id": "gXoOLapuwuDz",
        "colab": {
          "base_uri": "https://localhost:8080/"
        },
        "outputId": "83a38336-1b3e-45b0-d6e9-78e06926b50d"
      },
      "execution_count": null,
      "outputs": [
        {
          "output_type": "stream",
          "name": "stdout",
          "text": [
            "1\n",
            "_0898989811abced_\n",
            "VALID\n"
          ]
        }
      ]
    },
    {
      "cell_type": "markdown",
      "metadata": {
        "id": "BnGmmBnwwHtT"
      },
      "source": [
        "#### Q11 ip address validation\n",
        "\n",
        "link - https://www.hackerrank.com/challenges/ip-address-validation/problem"
      ]
    },
    {
      "cell_type": "code",
      "source": [
        "import re\n",
        "for _ in range(int(input())):\n",
        "  s = input()\n",
        "  if re.search(r'^([\\d]{1,3}.){3}([\\d]{1,3})$',s):\n",
        "    n = list(map(int,re.split('\\W+',s)))\n",
        "    if all(0 <= j <= 255 for j in n):\n",
        "      print('IPv4')\n",
        "    else:\n",
        "      print('neither')\n",
        "  elif re.search(r'^([\\dA-Fa-f]{1,4}:){7}([\\dA-Fa-f]{1,4})$', s):\n",
        "    print('IPv6')\n",
        "\n",
        "  else :\n",
        "    print('neither')\n",
        "    "
      ],
      "metadata": {
        "id": "gBwwV5nbwwxo"
      },
      "execution_count": null,
      "outputs": []
    },
    {
      "cell_type": "markdown",
      "metadata": {
        "id": "D8mN4d5_wHtU"
      },
      "source": [
        "\n",
        "#### Q 12 find a word problem\n",
        "\n",
        "link - https://www.hackerrank.com/challenges/find-a-word/problem\n"
      ]
    },
    {
      "cell_type": "code",
      "source": [
        "import re\n",
        "n = int(input())\n",
        "text = \"\\n\".join(input() for i in range(n))\n",
        "\n",
        "for i in range(int(input())):\n",
        "  regex = re.compile(rf'(?<![\\w]){input()}(?![\\w])')\n",
        "  print(len(regex.findall(text)))\n",
        "  "
      ],
      "metadata": {
        "id": "C8mbWsWdwz6O"
      },
      "execution_count": null,
      "outputs": []
    },
    {
      "cell_type": "markdown",
      "metadata": {
        "id": "tYt22wTJwHtU"
      },
      "source": [
        "#### Q13 detect the email address\n",
        "\n",
        "link - https://www.hackerrank.com/challenges/detect-the-email-addresses/problem"
      ]
    },
    {
      "cell_type": "code",
      "source": [
        "import re\n",
        "emails = set()\n",
        "for i in range(int(input())):\n",
        "  e = re.findall(r'[\\w\\.]+@[\\w\\.]+[a-zA-Z]+',input())\n",
        "  for email in e:\n",
        "    emails.add(email)\n",
        "print(';'.join(sorted(list(emails))))\n"
      ],
      "metadata": {
        "id": "3H8Yy3YTw2P-"
      },
      "execution_count": null,
      "outputs": []
    },
    {
      "cell_type": "markdown",
      "metadata": {
        "id": "kqfXJBm6wHtU"
      },
      "source": [
        "Q14 detect the domain problem\n",
        "\n",
        "link - https://www.hackerrank.com/challenges/detect-the-domain-name/problem"
      ]
    },
    {
      "cell_type": "code",
      "source": [
        "\n",
        "import re\n",
        "pattern = r'''\n",
        "https?://(?:www\\.|ww2\\.)?\n",
        "(\n",
        "  (?!-)[-0-9a-z]+(?<!-)(?:[.](?!-)[-0-9a-z]+(?<!-))+\n",
        ")\n",
        "'''\n",
        "htmls = '\\n'.join([input() for i in range(int(input()))])\n",
        "regx = re.compile(pattern, flags = re.X|re.I)\n",
        "links = regx.findall(htmls)\n",
        "print(';'.join(sorted(set(links))))\n"
      ],
      "metadata": {
        "id": "YB7UCwwsw4-Q"
      },
      "execution_count": null,
      "outputs": []
    },
    {
      "cell_type": "markdown",
      "metadata": {
        "id": "dUm16gwFwHtV"
      },
      "source": [
        "#### Q15 ide challenge\n",
        "\n",
        "link - https://www.hackerrank.com/challenges/ide-identifying-comments/problem"
      ]
    },
    {
      "cell_type": "code",
      "source": [
        "import re , sys\n",
        "regex = re.compile(r'(//.*?$|/\\**.*?\\**/)',re.M|re.DOTALL)\n",
        "\n",
        "for i in regex.findall(sys.stdin.read()):\n",
        "  print(re.sub(r\"\\n\\s+\",\"\\n\",i.strip()))\n"
      ],
      "metadata": {
        "id": "IdrLo4VUw7dV"
      },
      "execution_count": null,
      "outputs": []
    },
    {
      "cell_type": "markdown",
      "metadata": {
        "id": "nODVXXxdwHtV"
      },
      "source": [
        "#### Q16 programming language detection problem\n",
        "\n",
        "link - https://www.hackerrank.com/challenges/programming-language-detection/problem"
      ]
    },
    {
      "cell_type": "code",
      "source": [
        "import re,sys\n",
        "data = sys.stdin.read()\n",
        "isjava = re.search('import java',data)\n",
        "isC = re.search('#include', data)\n",
        "if isjava:print('Java')\n",
        "elif isC:print('C')\n",
        "else:print(\"python\")"
      ],
      "metadata": {
        "id": "oQ2Zyx_0w9_a"
      },
      "execution_count": null,
      "outputs": []
    },
    {
      "cell_type": "markdown",
      "metadata": {
        "id": "yTdfWG8VwHtV"
      },
      "source": [
        "\n",
        "---------------------------------\n",
        "\n",
        "# \"Holly jolly\":) Congratulations! you have completed the REGEX assignment. \n",
        "\n",
        "--------------------------------\n",
        "\n",
        "# FeedBack\n",
        "We hope you’ve enjoyed this course so far. We’re committed to help you use \"AI for All\" course to its full potential, so that you have a great learning experience. And that’s why we need your help in form of a feedback here.\n",
        "\n",
        "Please fill this feedback form  https://zfrmz.in/MtRG5oWXBdesm6rmSM7N"
      ]
    }
  ],
  "metadata": {
    "kernelspec": {
      "display_name": "Python 3",
      "language": "python",
      "name": "python3"
    },
    "language_info": {
      "codemirror_mode": {
        "name": "ipython",
        "version": 3
      },
      "file_extension": ".py",
      "mimetype": "text/x-python",
      "name": "python",
      "nbconvert_exporter": "python",
      "pygments_lexer": "ipython3",
      "version": "3.8.5"
    },
    "colab": {
      "provenance": []
    }
  },
  "nbformat": 4,
  "nbformat_minor": 0
}